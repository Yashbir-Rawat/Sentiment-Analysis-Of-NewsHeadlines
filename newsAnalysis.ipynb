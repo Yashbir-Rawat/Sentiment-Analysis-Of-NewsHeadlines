{
 "cells": [
  {
   "cell_type": "code",
   "execution_count": 1,
   "id": "10769f9b",
   "metadata": {},
   "outputs": [],
   "source": [
    "from bs4 import BeautifulSoup\n",
    "import requests\n",
    "import pandas as pd\n",
    "from vaderSentiment.vaderSentiment import SentimentIntensityAnalyzer"
   ]
  },
  {
   "cell_type": "code",
   "execution_count": 2,
   "id": "be075e3c",
   "metadata": {},
   "outputs": [],
   "source": [
    "url = 'https://news.google.com/topics/CAAqKggKIiRDQkFTRlFvSUwyMHZNRFZxYUdjU0JXVnVMVWRDR2dKSlRpZ0FQAQ?ceid=IN:en&oc=3'\n",
    "response = requests.get(url)\n",
    "soup = BeautifulSoup(response.text, 'html.parser')"
   ]
  },
  {
   "cell_type": "code",
   "execution_count": 3,
   "id": "fa51a626",
   "metadata": {},
   "outputs": [],
   "source": [
    "for x in soup.find('body').find_all('div',attrs={'jscontroller':'MRcHif'}):\n",
    "    headline = x.find('h3')\n",
    "    upload = x.find('div',attrs = {'class':'SVJrMe'}).find('time')\n",
    "    headlines = headline.text.strip()\n",
    "    headlines = headlines.replace(',','')\n",
    "    time = upload.text.strip()\n",
    "    f=open(\"news.csv\",\"a\",encoding=\"utf-8\")\n",
    "    f.write(\"{} , {} \\n\".format(headlines , time))\n",
    "    f.close()"
   ]
  },
  {
   "cell_type": "code",
   "execution_count": 4,
   "id": "4a862183",
   "metadata": {},
   "outputs": [],
   "source": [
    "df = pd.read_csv(\"news.csv\")\n",
    "analyzer = SentimentIntensityAnalyzer()\n",
    "positive=[]\n",
    "negative=[]\n",
    "neutral=[]"
   ]
  },
  {
   "cell_type": "code",
   "execution_count": 5,
   "id": "05e4f247",
   "metadata": {},
   "outputs": [],
   "source": [
    "for n in range(df.shape[0]):\n",
    "    news_headlines=df.iloc[n,0]\n",
    "    analyze_headlines=analyzer.polarity_scores(news_headlines)\n",
    "    negative.append(analyze_headlines['neg'])\n",
    "    neutral.append(analyze_headlines['neu'])\n",
    "    positive.append(analyze_headlines['pos'])"
   ]
  },
  {
   "cell_type": "code",
   "execution_count": 6,
   "id": "dc6e810f",
   "metadata": {},
   "outputs": [],
   "source": [
    "df[\"Negative\"]=negative\n",
    "df[\"Neutral\"]=neutral\n",
    "df[\"Positive\"]=positive"
   ]
  },
  {
   "cell_type": "code",
   "execution_count": 7,
   "id": "48461f43",
   "metadata": {},
   "outputs": [
    {
     "name": "stdout",
     "output_type": "stream",
     "text": [
      "<bound method NDFrame.head of     Go Door-To-Door Take Religious Leaders' Help: PM On Vaccinations   \\\n",
      "0    One Sun One World One Grid: India-UK's ambitio...                  \n",
      "1    Covaxin: List of countries you can fly to if y...                  \n",
      "2    Yogi Adityanath govt�s last Deepotsav at Ayodh...                  \n",
      "3    Don't want to talk about spent cartridges Navj...                  \n",
      "4    Secrets In Hotel: Maharashtra Minister Nawab M...                  \n",
      "..                                                 ...                  \n",
      "121  Presidential elections: Who all are supporting...                  \n",
      "122  Actor Rhea Chakraborty Charged In Drugs Case I...                  \n",
      "123  2022 Maruti Grand Vitara Nexa Blue Colour Teas...                  \n",
      "124  Rishi Sunak hits threshold for U.K. PM race as...                  \n",
      "125  Cold Tea For Chief Minister Shivraj Chouhan La...                  \n",
      "\n",
      "          1 hour ago   Negative  Neutral  Positive  \n",
      "0         1 hour ago      0.000    0.795     0.205  \n",
      "1       17 hours ago      0.000    1.000     0.000  \n",
      "2        8 hours ago      0.000    0.746     0.254  \n",
      "3     10 minutes ago      0.273    0.727     0.000  \n",
      "4        2 hours ago      0.352    0.648     0.000  \n",
      "..                ...       ...      ...       ...  \n",
      "121        Yesterday      0.000    0.756     0.244  \n",
      "122       1 hour ago      0.167    0.833     0.000  \n",
      "123      2 hours ago      0.136    0.679     0.185  \n",
      "124     20 hours ago      0.000    1.000     0.000  \n",
      "125     20 hours ago      0.213    0.787     0.000  \n",
      "\n",
      "[126 rows x 5 columns]>\n"
     ]
    }
   ],
   "source": [
    "print(df.head)"
   ]
  }
 ],
 "metadata": {
  "kernelspec": {
   "display_name": "Python 3",
   "language": "python",
   "name": "python3"
  },
  "language_info": {
   "codemirror_mode": {
    "name": "ipython",
    "version": 3
   },
   "file_extension": ".py",
   "mimetype": "text/x-python",
   "name": "python",
   "nbconvert_exporter": "python",
   "pygments_lexer": "ipython3",
   "version": "3.9.5"
  }
 },
 "nbformat": 4,
 "nbformat_minor": 5
}
